{
  "nbformat": 4,
  "nbformat_minor": 0,
  "metadata": {
    "colab": {
      "provenance": [],
      "authorship_tag": "ABX9TyPbyhCSLMqpiUjwECClNRTV",
      "include_colab_link": true
    },
    "kernelspec": {
      "name": "python3",
      "display_name": "Python 3"
    },
    "language_info": {
      "name": "python"
    }
  },
  "cells": [
    {
      "cell_type": "markdown",
      "metadata": {
        "id": "view-in-github",
        "colab_type": "text"
      },
      "source": [
        "<a href=\"https://colab.research.google.com/github/K4speeer/MB-T2/blob/master/sparkProject.ipynb\" target=\"_parent\"><img src=\"https://colab.research.google.com/assets/colab-badge.svg\" alt=\"Open In Colab\"/></a>"
      ]
    },
    {
      "cell_type": "markdown",
      "source": [
        "Installing PySpark on the machine."
      ],
      "metadata": {
        "id": "Sy3hikK4hJvB"
      }
    },
    {
      "cell_type": "code",
      "execution_count": null,
      "metadata": {
        "colab": {
          "base_uri": "https://localhost:8080/"
        },
        "id": "2winerCed_bC",
        "outputId": "ee11fe31-90f9-487d-83da-15756abd8b58"
      },
      "outputs": [
        {
          "output_type": "stream",
          "name": "stdout",
          "text": [
            "Collecting pyspark\n",
            "  Downloading pyspark-3.5.1.tar.gz (317.0 MB)\n",
            "\u001b[2K     \u001b[90m━━━━━━━━━━━━━━━━━━━━━━━━━━━━━━━━━━━━━━━━\u001b[0m \u001b[32m317.0/317.0 MB\u001b[0m \u001b[31m4.0 MB/s\u001b[0m eta \u001b[36m0:00:00\u001b[0m\n",
            "\u001b[?25h  Preparing metadata (setup.py) ... \u001b[?25l\u001b[?25hdone\n",
            "Requirement already satisfied: py4j==0.10.9.7 in /usr/local/lib/python3.10/dist-packages (from pyspark) (0.10.9.7)\n",
            "Building wheels for collected packages: pyspark\n",
            "  Building wheel for pyspark (setup.py) ... \u001b[?25l\u001b[?25hdone\n",
            "  Created wheel for pyspark: filename=pyspark-3.5.1-py2.py3-none-any.whl size=317488491 sha256=92bac8f1b033f2d22290a7a244f6a4ea1d20fc355d5377e6af441d5befcf3de5\n",
            "  Stored in directory: /root/.cache/pip/wheels/80/1d/60/2c256ed38dddce2fdd93be545214a63e02fbd8d74fb0b7f3a6\n",
            "Successfully built pyspark\n",
            "Installing collected packages: pyspark\n",
            "Successfully installed pyspark-3.5.1\n"
          ]
        }
      ],
      "source": [
        "pip install pyspark"
      ]
    },
    {
      "cell_type": "markdown",
      "source": [
        "Importing Libraries"
      ],
      "metadata": {
        "id": "3GfkWUZq6RAW"
      }
    },
    {
      "cell_type": "code",
      "source": [
        "from pyspark.sql import SparkSession"
      ],
      "metadata": {
        "id": "des0b_yJ6TvO"
      },
      "execution_count": 58,
      "outputs": []
    },
    {
      "cell_type": "markdown",
      "source": [
        "Creating Spark session"
      ],
      "metadata": {
        "id": "RdxcSmYo6ggd"
      }
    },
    {
      "cell_type": "code",
      "source": [
        "spark = SparkSession.builder.appName(\"ProductCategories\").getOrCreate()"
      ],
      "metadata": {
        "id": "saRCL0E66iyk"
      },
      "execution_count": 59,
      "outputs": []
    },
    {
      "cell_type": "markdown",
      "source": [
        "Loading Dataset as dataframes of Products, Categories and Relations between them."
      ],
      "metadata": {
        "id": "pVa-0YU3hWQA"
      }
    },
    {
      "cell_type": "code",
      "source": [
        "products_df = spark.read.csv(\"products.csv\", header=True, inferSchema=True)\n",
        "categories_df = spark.read.csv(\"categories.csv\", header=True, inferSchema=True)\n",
        "product_category_df = spark.read.csv(\"products_category.csv\", header=True, inferSchema=True)"
      ],
      "metadata": {
        "id": "5dnj7EaAhUB3"
      },
      "execution_count": 60,
      "outputs": []
    },
    {
      "cell_type": "markdown",
      "source": [
        "View uploaded (loaded dataframes)"
      ],
      "metadata": {
        "id": "jL9BzX577gOe"
      }
    },
    {
      "cell_type": "code",
      "source": [
        "print(\"Products:\")\n",
        "products_df.show()\n",
        "\n",
        "print(\"Categories:\")\n",
        "categories_df.show()\n",
        "\n",
        "print(\"Product-Category Relationships:\")\n",
        "product_category_df.show()\n"
      ],
      "metadata": {
        "id": "jZU-IeoP7ktW",
        "colab": {
          "base_uri": "https://localhost:8080/"
        },
        "outputId": "73bd37a2-ea8d-4cde-90fe-014779795e5d"
      },
      "execution_count": 61,
      "outputs": [
        {
          "output_type": "stream",
          "name": "stdout",
          "text": [
            "Products:\n",
            "+----------+------------+\n",
            "|product_id|product_name|\n",
            "+----------+------------+\n",
            "|         1|       Shirt|\n",
            "|         2|       Pants|\n",
            "|         3|       Shoes|\n",
            "|         4|         Hat|\n",
            "|         5|       Watch|\n",
            "|         6|     Sandals|\n",
            "|         7|        Ring|\n",
            "|         8|  Eyeglasses|\n",
            "|         9|       Apple|\n",
            "|        10|      Orange|\n",
            "+----------+------------+\n",
            "\n",
            "Categories:\n",
            "+-----------+-------------+\n",
            "|category_id|category_name|\n",
            "+-----------+-------------+\n",
            "|          1|     Clothing|\n",
            "|          2|     Footwear|\n",
            "|          3|  Accessories|\n",
            "|          4|      Eyewear|\n",
            "|          5|   Vegetables|\n",
            "+-----------+-------------+\n",
            "\n",
            "Product-Category Relationships:\n",
            "+----------+-----------+\n",
            "|product_id|category_id|\n",
            "+----------+-----------+\n",
            "|         1|          1|\n",
            "|         2|          1|\n",
            "|         3|          2|\n",
            "|         4|          3|\n",
            "|         5|          3|\n",
            "|         6|          2|\n",
            "|         7|          3|\n",
            "|         8|          3|\n",
            "|         8|          4|\n",
            "|         9|       NULL|\n",
            "|        10|       NULL|\n",
            "+----------+-----------+\n",
            "\n"
          ]
        }
      ]
    },
    {
      "cell_type": "markdown",
      "source": [
        "Replace Product_ID and Category_ID with Product_Name and Category_Name respectivly"
      ],
      "metadata": {
        "id": "T8RImGHwn5Uy"
      }
    },
    {
      "cell_type": "code",
      "source": [
        "# Adding a new column in the left side of df containing product_name\n",
        "joined_df = product_category_df.join(products_df, on='product_id', how='left')\n",
        "# joined_df.show()\n",
        "\n",
        "# Adding a category_name column to the left of the last modified df\n",
        "joined_df2 = joined_df.join(categories_df, on='category_id', how='left')\n",
        "# joined_df2.show()\n",
        "\n",
        "# Creating new df with selected columns ('product_name', 'category_name')\n",
        "output_df = joined_df2.select('product_name', 'category_name')\n",
        "# output_df.show()\n",
        "\n",
        "# Replacing the NULL values in category_name column with 'No Category' and printing output\n",
        "output_df.fillna(\"No Category\", subset=['category_name']).show()\n"
      ],
      "metadata": {
        "colab": {
          "base_uri": "https://localhost:8080/"
        },
        "id": "EiPmm-y6m9kj",
        "outputId": "3487960a-e8d2-4343-d074-03967d7e5679"
      },
      "execution_count": 57,
      "outputs": [
        {
          "output_type": "stream",
          "name": "stdout",
          "text": [
            "+------------+-------------+\n",
            "|product_name|category_name|\n",
            "+------------+-------------+\n",
            "|       Shirt|     Clothing|\n",
            "|       Pants|     Clothing|\n",
            "|       Shoes|     Footwear|\n",
            "|         Hat|  Accessories|\n",
            "|       Watch|  Accessories|\n",
            "|     Sandals|     Footwear|\n",
            "|        Ring|  Accessories|\n",
            "|  Eyeglasses|  Accessories|\n",
            "|  Eyeglasses|      Eyewear|\n",
            "|Nose'n'Brows|  No Category|\n",
            "|       Hands|  No Category|\n",
            "+------------+-------------+\n",
            "\n"
          ]
        }
      ]
    },
    {
      "cell_type": "markdown",
      "source": [
        "A function to create a new dataframe with all products and categories they belong to (if exists)"
      ],
      "metadata": {
        "id": "Rt-6LQtBG_Z9"
      }
    },
    {
      "cell_type": "code",
      "source": [
        "# The following function acts the same as previuos block of code\n",
        "\n",
        "def prods_to_cats(products_df, categories_df, relation_df):\n",
        "  \"\"\"\n",
        "  Analyze and cretes a dataframe of pairs Product - Category depending on Relation between them\n",
        "\n",
        "  Args:\n",
        "    products_df : Products dataframe\n",
        "    categories_df : Catigories dataframe\n",
        "    relation_df : The relationship between categories and products\n",
        "\n",
        "  Returns:\n",
        "    DataFrame with pairs of [Product_name - Category_name] with duplicates if the product belongs to many categories\n",
        "    in addition to all products that don't belong to any category\n",
        "\n",
        "  \"\"\"\n",
        "\n",
        "  # Adding a column that places product_name beside every product_id\n",
        "  joined_df = relation_df.join(products_df, on='product_id', how='left').select('category_id', \"product_name\")\n",
        "  # Adding a column that places category_name beside every category_id\n",
        "  output_df = joined_df.join(categories_df, on='category_id', how='left').select('product_name', \"category_name\")\n",
        "  # Replacing NULLs' with 'No Category' in category_name column\n",
        "  # Returning last modified DataFrame\n",
        "  return output_df.fillna('No Category', 'category_name')\n",
        "\n",
        "\n",
        "\n"
      ],
      "metadata": {
        "id": "U7djfKqyQqkF"
      },
      "execution_count": 62,
      "outputs": []
    },
    {
      "cell_type": "code",
      "source": [
        "o = prods_to_cats(products_df, categories_df, product_category_df)\n",
        "o.show()"
      ],
      "metadata": {
        "colab": {
          "base_uri": "https://localhost:8080/"
        },
        "id": "R0UbKOawnAvZ",
        "outputId": "269b397c-07ce-4514-8c27-e4f479c7d13b"
      },
      "execution_count": 63,
      "outputs": [
        {
          "output_type": "stream",
          "name": "stdout",
          "text": [
            "+------------+-------------+\n",
            "|product_name|category_name|\n",
            "+------------+-------------+\n",
            "|       Shirt|     Clothing|\n",
            "|       Pants|     Clothing|\n",
            "|       Shoes|     Footwear|\n",
            "|         Hat|  Accessories|\n",
            "|       Watch|  Accessories|\n",
            "|     Sandals|     Footwear|\n",
            "|        Ring|  Accessories|\n",
            "|  Eyeglasses|  Accessories|\n",
            "|  Eyeglasses|      Eyewear|\n",
            "|       Apple|  No Category|\n",
            "|      Orange|  No Category|\n",
            "+------------+-------------+\n",
            "\n"
          ]
        }
      ]
    }
  ]
}